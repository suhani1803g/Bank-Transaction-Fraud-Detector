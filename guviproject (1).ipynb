{
  "nbformat": 4,
  "nbformat_minor": 0,
  "metadata": {
    "colab": {
      "provenance": []
    },
    "kernelspec": {
      "name": "python3",
      "display_name": "Python 3"
    },
    "language_info": {
      "name": "python"
    }
  },
  "cells": [
    {
      "cell_type": "code",
      "source": [
        "import pandas as pd\n",
        "from sklearn.ensemble import IsolationForest\n",
        "\n",
        "# -------------------------\n",
        "# 1. Create sample dataset\n",
        "# -------------------------\n",
        "data = {\n",
        "    \"TransactionID\": [\"T001\", \"T002\"],\n",
        "    \"Amount\": [5000, 25000],\n",
        "    \"Type\": [\"Online\", \"ATM\"],\n",
        "    \"Location\": [\"Delhi\", \"Unknown\"],\n",
        "    \"IsFraud\": [0, 1]\n",
        "}\n",
        "\n",
        "df = pd.DataFrame(data)\n",
        "\n",
        "# -------------------------\n",
        "# 2. Encode categories manually\n",
        "# -------------------------\n",
        "type_map = {val: idx for idx, val in enumerate(df[\"Type\"].unique())}\n",
        "location_map = {val: idx for idx, val in enumerate(df[\"Location\"].unique())}\n",
        "\n",
        "df[\"Type\"] = df[\"Type\"].map(type_map)\n",
        "df[\"Location\"] = df[\"Location\"].map(location_map)\n",
        "\n",
        "# -------------------------\n",
        "# 3. Train Isolation Forest\n",
        "# -------------------------\n",
        "X = df[[\"Amount\", \"Type\", \"Location\"]]\n",
        "\n",
        "model = IsolationForest(contamination=0.5, random_state=42)  # contamination=expected fraud %\n",
        "model.fit(X)\n",
        "\n",
        "# -------------------------\n",
        "# 4. New transaction to test\n",
        "# -------------------------\n",
        "new_transaction = {\n",
        "    \"Amount\": 24000,\n",
        "    \"Type\": type_map[\"ATM\"],         # uses same encoding\n",
        "    \"Location\": location_map[\"Unknown\"]\n",
        "}\n",
        "\n",
        "new_data = pd.DataFrame([new_transaction])\n",
        "\n",
        "# -------------------------\n",
        "# 5. Predict fraud / normal\n",
        "# -------------------------\n",
        "prediction = model.predict(new_data)\n",
        "\n",
        "if prediction[0] == -1:\n",
        "    print(\"🚨 Fraudulent Transaction Detected\")\n",
        "else:\n",
        "    print(\"✅ Normal Transaction\")\n"
      ],
      "metadata": {
        "colab": {
          "base_uri": "https://localhost:8080/"
        },
        "id": "HcURx-taEzDo",
        "outputId": "15475104-5a7b-4a1d-9e47-3f4ad603bb0b"
      },
      "execution_count": null,
      "outputs": [
        {
          "output_type": "stream",
          "name": "stdout",
          "text": [
            "✅ Normal Transaction\n"
          ]
        }
      ]
    }
  ]
}